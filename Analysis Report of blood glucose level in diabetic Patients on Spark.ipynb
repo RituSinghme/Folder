{
 "cells": [
  {
   "cell_type": "markdown",
   "metadata": {},
   "source": [
    "\n",
    "\n",
    "## Analysis of blood sugar level patterns and insulin dose administration in   \n",
    "\n",
    "## Patients based on daily blood sugar level given for span of 2-3 years\n",
    "\n",
    "\n",
    "\n"
   ]
  },
  {
   "cell_type": "markdown",
   "metadata": {},
   "source": [
    "\n",
    "## Data-set for analysis\n",
    "\n",
    " **Apache Spark** has been used to analyze blodd sugar report of around 50 Patients based on the data set obtained bt below source. \n",
    "\n"
   ]
  },
  {
   "cell_type": "markdown",
   "metadata": {},
   "source": [
    "\n",
    "The format of the data in the base file consists of the following:\n",
    "\n",
    "<table border=\"1\" style=\"width:90%\">\n",
    "  <tr>\n",
    "    <th>PATIENT_NO</th><th>DATE</th><th>TIME</th><th>CODE</th><th>VALUE</th>\n",
    "  </tr>\n",
    "  <tr>\n",
    "    <td>Patient_1</td><td>4/21/1991</td><td>9:09</td><td>58</td><td>100</td>\n",
    "  </tr>\n",
    "    <tr>\n",
    "    <td>Patient_1</td><td>4/21/1991</td><td>9:09</td><td>33</td><td>9</td>\n",
    "  </tr>\n",
    "    <tr>\n",
    "    <td>Patient_1</td><td>4/21/1991</td><td>9:09</td><td>34</td><td>13</td>\n",
    "  </tr>\n",
    "    <tr>\n",
    "    <td>Patient_1</td><td>4/22/1991</td><td>10:09</td><td>58</td><td>105</td>\n",
    "  </tr>\n",
    "  <tr>\n",
    "    <td>Patient_2</td><td>4/28/1991</td><td>9:09</td><td>34</td><td>10</td>>\n",
    "  </tr>\n",
    "  <tr>\n",
    "    <td>Patient_2</td><td>4/20/1991</td><td>9:09</td><td>58</td><td>120</td>\n",
    "  </tr>\n",
    "  <tr>\n",
    "    <td>...</td><td>...</td><td>...</td><td>...</td><td>...</td>\n",
    "  </tr>\n",
    "</table>\n",
    "<p>\n"
   ]
  },
  {
   "cell_type": "markdown",
   "metadata": {},
   "source": [
    "## Load Data\n",
    "Befor we can access the stored file in Object Storage using the [`SparkContext`](https://spark.apache.org/docs/1.6.0/api/python/pyspark.html#pyspark.SparkContext), we have to set the Hadoop configuration. This can be done with the following configuration function:"
   ]
  },
  {
   "cell_type": "code",
   "execution_count": 177,
   "metadata": {
    "collapsed": true
   },
   "outputs": [],
   "source": [
    "def set_hadoop_config(credentials):\n",
    "    prefix = \"fs.swift.service.\" + credentials['name'] \n",
    "    hconf = sc._jsc.hadoopConfiguration()\n",
    "    hconf.set(prefix + \".auth.url\", credentials['auth_url']+'/v3/auth/tokens')\n",
    "    hconf.set(prefix + \".auth.endpoint.prefix\", \"endpoints\")\n",
    "    hconf.set(prefix + \".tenant\", credentials['project_id'])\n",
    "    hconf.set(prefix + \".username\", credentials['user_id'])\n",
    "    hconf.set(prefix + \".password\", credentials['password'])\n",
    "    hconf.setInt(prefix + \".http.port\", 8080)\n",
    "    hconf.set(prefix + \".region\", credentials['region'])\n",
    "    hconf.setBoolean(prefix + \".public\", True)"
   ]
  },
  {
   "cell_type": "markdown",
   "metadata": {},
   "source": [
    "In the code cell below, credentials for Sourse files have been pasted."
   ]
  },
  {
   "cell_type": "code",
   "execution_count": 178,
   "metadata": {
    "collapsed": false
   },
   "outputs": [],
   "source": [
    "\n",
    "credentials_2 = {\n",
    "  'auth_url':'https://identity.open.softlayer.com',\n",
    "  'project':'object_storage_d19e928b_e4b5_41c3_a1dd_52e0ef9cd369',\n",
    "  'project_id':'1ef29c85000e4bd4adf3a905dd6661a6',\n",
    "  'region':'dallas',\n",
    "  'user_id':'33ddb0cd7f46410ea83ded6c172cfae2',\n",
    "  'domain_id':'22da6bc73b8444b1adfaef5af9c4fec5',\n",
    "  'domain_name':'965639',\n",
    "  'username':'Admin_371a7c9d53ca9e41673e1b29dae0d93301fa7ab2',\n",
    "  'password':\"\"\"l~1jS}aD02uJ^J0n\"\"\",\n",
    "  'filename':'Patient_1_Record.csv',\n",
    "  'container':'notebooks',\n",
    "  'tenantId':'s244-0fd88f7a010898-26760440299a'\n",
    "};\n",
    "credentials_1 = {\n",
    "  'auth_url':'https://identity.open.softlayer.com',\n",
    "  'project':'object_storage_d19e928b_e4b5_41c3_a1dd_52e0ef9cd369',\n",
    "  'project_id':'1ef29c85000e4bd4adf3a905dd6661a6',\n",
    "  'region':'dallas',\n",
    "  'user_id':'33ddb0cd7f46410ea83ded6c172cfae2',\n",
    "  'domain_id':'22da6bc73b8444b1adfaef5af9c4fec5',\n",
    "  'domain_name':'965639',\n",
    "  'username':'Admin_371a7c9d53ca9e41673e1b29dae0d93301fa7ab2',\n",
    "  'password':\"\"\"l~1jS}aD02uJ^J0n\"\"\",\n",
    "  'filename':'Code_Description.csv',\n",
    "  'container':'notebooks',\n",
    "  'tenantId':'s244-0fd88f7a010898-26760440299a'\n",
    "};\n",
    "credentials = {\n",
    "  'auth_url':'https://identity.open.softlayer.com',\n",
    "  'project':'object_storage_d19e928b_e4b5_41c3_a1dd_52e0ef9cd369',\n",
    "  'project_id':'1ef29c85000e4bd4adf3a905dd6661a6',\n",
    "  'region':'dallas',\n",
    "  'user_id':'33ddb0cd7f46410ea83ded6c172cfae2',\n",
    "  'domain_id':'22da6bc73b8444b1adfaef5af9c4fec5',\n",
    "  'domain_name':'965639',\n",
    "  'username':'Admin_371a7c9d53ca9e41673e1b29dae0d93301fa7ab2',\n",
    "  'password':\"\"\"l~1jS}aD02uJ^J0n\"\"\",\n",
    "  'filename':'Diabetes_Consolidated_data.csv',\n",
    "  'container':'notebooks',\n",
    "  'tenantId':'s244-0fd88f7a010898-26760440299a'\n",
    "}"
   ]
  },
  {
   "cell_type": "markdown",
   "metadata": {},
   "source": [
    "Hadoop configuration name has been set with \"keystone\". "
   ]
  },
  {
   "cell_type": "code",
   "execution_count": 179,
   "metadata": {
    "collapsed": false
   },
   "outputs": [],
   "source": [
    "credentials['name'] = 'keystone'\n",
    "set_hadoop_config(credentials)"
   ]
  },
  {
   "cell_type": "code",
   "execution_count": 180,
   "metadata": {
    "collapsed": false
   },
   "outputs": [],
   "source": [
    "credentials_1['name'] = 'keystone_1'\n",
    "set_hadoop_config(credentials_1)"
   ]
  },
  {
   "cell_type": "code",
   "execution_count": 181,
   "metadata": {
    "collapsed": true
   },
   "outputs": [],
   "source": [
    "credentials_2['name'] = 'keystone_2'\n",
    "set_hadoop_config(credentials)"
   ]
  },
  {
   "cell_type": "markdown",
   "metadata": {},
   "source": [
    "With the raw data file stored in Object Storage, we can now access it using the configured `SparkContext` in our notebook. \n",
    "\n",
    "Below is the RDD created [`RDD`](https://spark.apache.org/docs/1.6.0/programming-guide.html#resilient-distributed-datasets-rdds) from the raw data file to refer it using a URI of the form: swift://container_name.name/object_name"
   ]
  },
  {
   "cell_type": "code",
   "execution_count": 182,
   "metadata": {
    "collapsed": false
   },
   "outputs": [],
   "source": [
    "record = sc.textFile(\"swift://notebooks.keystone/Diabetes_Consolidated_data.csv\")"
   ]
  },
  {
   "cell_type": "code",
   "execution_count": 183,
   "metadata": {
    "collapsed": true
   },
   "outputs": [],
   "source": [
    "record_1 = sc.textFile(\"swift://notebooks.keystone/Code_Description.csv\")"
   ]
  },
  {
   "cell_type": "code",
   "execution_count": 184,
   "metadata": {
    "collapsed": true
   },
   "outputs": [],
   "source": [
    "record_2 = sc.textFile(\"swift://notebooks.keystone/Patient_1_Record.csv\")"
   ]
  },
  {
   "cell_type": "markdown",
   "metadata": {},
   "source": [
    "## Results & Findings:\n",
    "\n",
    "## 1. Total number of records present in blood sugar report data files\n"
   ]
  },
  {
   "cell_type": "code",
   "execution_count": 185,
   "metadata": {
    "collapsed": false
   },
   "outputs": [
    {
     "name": "stdout",
     "output_type": "stream",
     "text": [
      "Total records in the Diabetes_Consolidated_data.csv dataset: 19872\n"
     ]
    }
   ],
   "source": [
    "print \"Total records in the Diabetes_Consolidated_data.csv dataset:\", record.count()"
   ]
  },
  {
   "cell_type": "code",
   "execution_count": 186,
   "metadata": {
    "collapsed": false
   },
   "outputs": [
    {
     "name": "stdout",
     "output_type": "stream",
     "text": [
      "Total records in the Code_Description.csv dataset: 21\n"
     ]
    }
   ],
   "source": [
    "print \"Total records in the Code_Description.csv dataset:\", record_1.count()"
   ]
  },
  {
   "cell_type": "code",
   "execution_count": 187,
   "metadata": {
    "collapsed": false
   },
   "outputs": [
    {
     "name": "stdout",
     "output_type": "stream",
     "text": [
      "Total records in the Patient_1_Record.csv dataset: 943\n"
     ]
    }
   ],
   "source": [
    "print \"Total records in the Patient_1_Record.csv dataset:\", record_2.count()"
   ]
  },
  {
   "cell_type": "markdown",
   "metadata": {},
   "source": [
    "## Results & Findings:\n",
    "\n",
    "## 2. Column names and Records value types in each dataset\n",
    " \n"
   ]
  },
  {
   "cell_type": "code",
   "execution_count": 188,
   "metadata": {
    "collapsed": false
   },
   "outputs": [
    {
     "name": "stdout",
     "output_type": "stream",
     "text": [
      "The first row in the Diabetes_Consolidated_data.csv dataset: Patient_No,Date,Time,Code,Value\n"
     ]
    }
   ],
   "source": [
    "print \"The first row in the Diabetes_Consolidated_data.csv dataset:\", record.first()"
   ]
  },
  {
   "cell_type": "code",
   "execution_count": 189,
   "metadata": {
    "collapsed": false
   },
   "outputs": [
    {
     "name": "stdout",
     "output_type": "stream",
     "text": [
      "The first row in the Code_Description.csv dataset: Code,Description\n"
     ]
    }
   ],
   "source": [
    "print \"The first row in the Code_Description.csv dataset:\", record_1.first()"
   ]
  },
  {
   "cell_type": "code",
   "execution_count": 190,
   "metadata": {
    "collapsed": false
   },
   "outputs": [
    {
     "name": "stdout",
     "output_type": "stream",
     "text": [
      "The first row in the Patient_1_Record.csv dataset: 4/21/1991,9:09,58,100\n"
     ]
    }
   ],
   "source": [
    "print \"The first row in the Patient_1_Record.csv dataset:\", record_2.first()"
   ]
  },
  {
   "cell_type": "markdown",
   "metadata": {},
   "source": [
    "## Parse Data to Calculate the Average values of blood Sugar in Each Patient"
   ]
  },
  {
   "cell_type": "code",
   "execution_count": 191,
   "metadata": {
    "collapsed": false
   },
   "outputs": [],
   "source": [
    "recordParse = record.map(lambda line : line.split(\",\"))"
   ]
  },
  {
   "cell_type": "code",
   "execution_count": 192,
   "metadata": {
    "collapsed": true
   },
   "outputs": [],
   "source": [
    "record_1Parse = record_1.map(lambda line : line.split(\",\"))"
   ]
  },
  {
   "cell_type": "code",
   "execution_count": 193,
   "metadata": {
    "collapsed": true
   },
   "outputs": [],
   "source": [
    "record_2Parse = record_2.map(lambda line : line.split(\",\"))"
   ]
  },
  {
   "cell_type": "code",
   "execution_count": 194,
   "metadata": {
    "collapsed": false,
    "scrolled": true
   },
   "outputs": [
    {
     "data": {
      "text/plain": [
       "[u'Patient_No', u'Date', u'Time', u'Code', u'Value']"
      ]
     },
     "execution_count": 194,
     "metadata": {},
     "output_type": "execute_result"
    }
   ],
   "source": [
    "recordParse.first()"
   ]
  },
  {
   "cell_type": "code",
   "execution_count": 195,
   "metadata": {
    "collapsed": false,
    "scrolled": true
   },
   "outputs": [
    {
     "data": {
      "text/plain": [
       "u'Patient_No'"
      ]
     },
     "execution_count": 195,
     "metadata": {},
     "output_type": "execute_result"
    }
   ],
   "source": [
    "recordParse.first()[0]"
   ]
  },
  {
   "cell_type": "code",
   "execution_count": 196,
   "metadata": {
    "collapsed": false
   },
   "outputs": [
    {
     "data": {
      "text/plain": [
       "u'Time'"
      ]
     },
     "execution_count": 196,
     "metadata": {},
     "output_type": "execute_result"
    }
   ],
   "source": [
    "recordParse.first()[2]"
   ]
  },
  {
   "cell_type": "markdown",
   "metadata": {},
   "source": [
    "## Reduce Dataset to get pre-breakfast and pre-supper blood sugar level in \n",
    "\n",
    "## Patients\n"
   ]
  },
  {
   "cell_type": "code",
   "execution_count": 197,
   "metadata": {
    "collapsed": false
   },
   "outputs": [],
   "source": [
    "Record_Glucose = recordParse.filter(lambda x: x[3] == \"58\")"
   ]
  },
  {
   "cell_type": "code",
   "execution_count": 198,
   "metadata": {
    "collapsed": true
   },
   "outputs": [],
   "source": [
    "Record_Glucose_1 = recordParse.filter(lambda x: x[3] == \"62\")"
   ]
  },
  {
   "cell_type": "code",
   "execution_count": 199,
   "metadata": {
    "collapsed": false
   },
   "outputs": [
    {
     "data": {
      "text/plain": [
       "[u'Patient_1', u'4/21/1991', u'9:09', u'58', u'100']"
      ]
     },
     "execution_count": 199,
     "metadata": {},
     "output_type": "execute_result"
    }
   ],
   "source": [
    "Record_Glucose.first()"
   ]
  },
  {
   "cell_type": "code",
   "execution_count": 200,
   "metadata": {
    "collapsed": false
   },
   "outputs": [
    {
     "data": {
      "text/plain": [
       "[u'Patient_1', u'4/21/1991', u'17:08', u'62', u'119']"
      ]
     },
     "execution_count": 200,
     "metadata": {},
     "output_type": "execute_result"
    }
   ],
   "source": [
    "Record_Glucose_1.first()"
   ]
  },
  {
   "cell_type": "code",
   "execution_count": 201,
   "metadata": {
    "collapsed": false
   },
   "outputs": [],
   "source": [
    "# x[0] is the patient\n",
    "# x[4] is the pre-breakfast blood sugar measurement\n",
    "Record_GlucoseCountByKey = Record_Glucose.map(lambda x : (x[0], (int(x[4]), 1)))"
   ]
  },
  {
   "cell_type": "code",
   "execution_count": 202,
   "metadata": {
    "collapsed": true
   },
   "outputs": [],
   "source": [
    "# x[0] is the patient\n",
    "# x[4] is the pre-breakfast blood sugar measurement\n",
    "Record_Glucose_1_CountByKey = Record_Glucose_1.map(lambda x : (x[0], (int(x[4]), 1)))"
   ]
  },
  {
   "cell_type": "code",
   "execution_count": 203,
   "metadata": {
    "collapsed": false
   },
   "outputs": [
    {
     "data": {
      "text/plain": [
       "(u'Patient_1', (100, 1))"
      ]
     },
     "execution_count": 203,
     "metadata": {},
     "output_type": "execute_result"
    }
   ],
   "source": [
    "Record_GlucoseCountByKey.first()"
   ]
  },
  {
   "cell_type": "code",
   "execution_count": 204,
   "metadata": {
    "collapsed": false
   },
   "outputs": [
    {
     "data": {
      "text/plain": [
       "(u'Patient_1', (119, 1))"
      ]
     },
     "execution_count": 204,
     "metadata": {},
     "output_type": "execute_result"
    }
   ],
   "source": [
    "Record_Glucose_1_CountByKey.first()"
   ]
  },
  {
   "cell_type": "code",
   "execution_count": 205,
   "metadata": {
    "collapsed": false
   },
   "outputs": [
    {
     "data": {
      "text/plain": [
       "[(u'Patient_9', (365, 1)),\n",
       " (u'Patient_9', (346, 1)),\n",
       " (u'Patient_9', (309, 1)),\n",
       " (u'Patient_9', (297, 1)),\n",
       " (u'Patient_9', (289, 1)),\n",
       " (u'Patient_9', (254, 1)),\n",
       " (u'Patient_9', (241, 1)),\n",
       " (u'Patient_9', (219, 1)),\n",
       " (u'Patient_9', (203, 1)),\n",
       " (u'Patient_9', (156, 1))]"
      ]
     },
     "execution_count": 205,
     "metadata": {},
     "output_type": "execute_result"
    }
   ],
   "source": [
    "Record_GlucoseCountByKey.top(10)"
   ]
  },
  {
   "cell_type": "code",
   "execution_count": 206,
   "metadata": {
    "collapsed": false
   },
   "outputs": [
    {
     "data": {
      "text/plain": [
       "[(u'Patient_9', (324, 1)),\n",
       " (u'Patient_9', (281, 1)),\n",
       " (u'Patient_9', (270, 1)),\n",
       " (u'Patient_9', (261, 1)),\n",
       " (u'Patient_9', (252, 1)),\n",
       " (u'Patient_9', (222, 1)),\n",
       " (u'Patient_9', (213, 1)),\n",
       " (u'Patient_9', (195, 1)),\n",
       " (u'Patient_9', (142, 1)),\n",
       " (u'Patient_9', (121, 1))]"
      ]
     },
     "execution_count": 206,
     "metadata": {},
     "output_type": "execute_result"
    }
   ],
   "source": [
    "Record_Glucose_1_CountByKey.top(10)"
   ]
  },
  {
   "cell_type": "code",
   "execution_count": 207,
   "metadata": {
    "collapsed": false
   },
   "outputs": [],
   "source": [
    "Record_GlucoseAddByKey = Record_GlucoseCountByKey.reduceByKey(lambda v1,v2 : (v1[0]+v2[0], v1[1]+v2[1]))"
   ]
  },
  {
   "cell_type": "code",
   "execution_count": 208,
   "metadata": {
    "collapsed": true
   },
   "outputs": [],
   "source": [
    "Record_Glucose_1_AddByKey = Record_Glucose_1_CountByKey.reduceByKey(lambda v1,v2 : (v1[0]+v2[0], v1[1]+v2[1]))  "
   ]
  },
  {
   "cell_type": "code",
   "execution_count": 209,
   "metadata": {
    "collapsed": false
   },
   "outputs": [
    {
     "data": {
      "text/plain": [
       "(u'Patient_13', (6411, 32))"
      ]
     },
     "execution_count": 209,
     "metadata": {},
     "output_type": "execute_result"
    }
   ],
   "source": [
    "Record_GlucoseAddByKey.first()"
   ]
  },
  {
   "cell_type": "code",
   "execution_count": 210,
   "metadata": {
    "collapsed": false
   },
   "outputs": [
    {
     "data": {
      "text/plain": [
       "(u'Patient_13', (2659, 24))"
      ]
     },
     "execution_count": 210,
     "metadata": {},
     "output_type": "execute_result"
    }
   ],
   "source": [
    "Record_Glucose_1_AddByKey.first()"
   ]
  },
  {
   "cell_type": "markdown",
   "metadata": {},
   "source": [
    "\n",
    "\n",
    "## Computing the Average Values for Each Patient (average of daily \n",
    "\n",
    "## blood sugar level given for span of 2-3 years for 50 Patients) and \n",
    "\n",
    "## sorting entire list to find Patients with Minimum and Maximum \n",
    "\n",
    "## levels\n",
    "\n",
    "\n"
   ]
  },
  {
   "cell_type": "code",
   "execution_count": 211,
   "metadata": {
    "collapsed": true
   },
   "outputs": [],
   "source": [
    "Record_GlucoseAverages = Record_GlucoseAddByKey.map(lambda k: (k[0], k[1][0] / float(k[1][1] ) ) )"
   ]
  },
  {
   "cell_type": "code",
   "execution_count": 212,
   "metadata": {
    "collapsed": true
   },
   "outputs": [],
   "source": [
    "Record_1_GlucoseAverages = Record_Glucose_1_AddByKey.map(lambda k: (k[0], k[1][0] / float(k[1][1] ) ) )"
   ]
  },
  {
   "cell_type": "code",
   "execution_count": 213,
   "metadata": {
    "collapsed": false
   },
   "outputs": [
    {
     "data": {
      "text/plain": [
       "(u'Patient_13', 200.34375)"
      ]
     },
     "execution_count": 213,
     "metadata": {},
     "output_type": "execute_result"
    }
   ],
   "source": [
    "Record_GlucoseAverages.first()"
   ]
  },
  {
   "cell_type": "code",
   "execution_count": 214,
   "metadata": {
    "collapsed": false
   },
   "outputs": [
    {
     "data": {
      "text/plain": [
       "(u'Patient_13', 110.79166666666667)"
      ]
     },
     "execution_count": 214,
     "metadata": {},
     "output_type": "execute_result"
    }
   ],
   "source": [
    "Record_1_GlucoseAverages.first()"
   ]
  },
  {
   "cell_type": "markdown",
   "metadata": {},
   "source": [
    "\n",
    "\n",
    "## Results & Findings:\n",
    "\n",
    "## 3 : Average Pre-breakfast blood Sugar of 50 Patients (calculated  \n",
    "\n",
    "## based on daily blood sugar level given for span of 2-3 years)\n",
    "\n"
   ]
  },
  {
   "cell_type": "code",
   "execution_count": 215,
   "metadata": {
    "collapsed": false
   },
   "outputs": [
    {
     "name": "stdout",
     "output_type": "stream",
     "text": [
      "patient Patient_9 had average Pre-breakfast blood Sugar of 173.000000\n",
      "patient Patient_8 had average Pre-breakfast blood Sugar of 186.658537\n",
      "patient Patient_7 had average Pre-breakfast blood Sugar of 182.529412\n",
      "patient Patient_6 had average Pre-breakfast blood Sugar of 213.523810\n",
      "patient Patient_50 had average Pre-breakfast blood Sugar of 94.266667\n",
      "patient Patient_5 had average Pre-breakfast blood Sugar of 147.432432\n",
      "patient Patient_49 had average Pre-breakfast blood Sugar of 100.219512\n",
      "patient Patient_48 had average Pre-breakfast blood Sugar of 172.483871\n",
      "patient Patient_47 had average Pre-breakfast blood Sugar of 173.064516\n",
      "patient Patient_46 had average Pre-breakfast blood Sugar of 192.718750\n",
      "patient Patient_45 had average Pre-breakfast blood Sugar of 178.222222\n",
      "patient Patient_44 had average Pre-breakfast blood Sugar of 180.142857\n",
      "patient Patient_43 had average Pre-breakfast blood Sugar of 138.892857\n",
      "patient Patient_42 had average Pre-breakfast blood Sugar of 104.353846\n",
      "patient Patient_41 had average Pre-breakfast blood Sugar of 137.015873\n",
      "patient Patient_4 had average Pre-breakfast blood Sugar of 141.571429\n",
      "patient Patient_39 had average Pre-breakfast blood Sugar of 161.533333\n",
      "patient Patient_38 had average Pre-breakfast blood Sugar of 169.321429\n",
      "patient Patient_37 had average Pre-breakfast blood Sugar of 214.400000\n",
      "patient Patient_36 had average Pre-breakfast blood Sugar of 206.966667\n",
      "patient Patient_35 had average Pre-breakfast blood Sugar of 159.517241\n",
      "patient Patient_34 had average Pre-breakfast blood Sugar of 151.655172\n",
      "patient Patient_33 had average Pre-breakfast blood Sugar of 153.357143\n",
      "patient Patient_32 had average Pre-breakfast blood Sugar of 180.363636\n",
      "patient Patient_31 had average Pre-breakfast blood Sugar of 157.188235\n",
      "patient Patient_30 had average Pre-breakfast blood Sugar of 173.432432\n",
      "patient Patient_3 had average Pre-breakfast blood Sugar of 117.675000\n",
      "patient Patient_29 had average Pre-breakfast blood Sugar of 182.302013\n",
      "patient Patient_28 had average Pre-breakfast blood Sugar of 173.024590\n",
      "patient Patient_27 had average Pre-breakfast blood Sugar of 146.136752\n",
      "patient Patient_26 had average Pre-breakfast blood Sugar of 126.898734\n",
      "patient Patient_24 had average Pre-breakfast blood Sugar of 179.045455\n",
      "patient Patient_23 had average Pre-breakfast blood Sugar of 58.500000\n",
      "patient Patient_21 had average Pre-breakfast blood Sugar of 145.396226\n",
      "patient Patient_20 had average Pre-breakfast blood Sugar of 184.296296\n",
      "patient Patient_2 had average Pre-breakfast blood Sugar of 207.843750\n",
      "patient Patient_19 had average Pre-breakfast blood Sugar of 182.935484\n",
      "patient Patient_18 had average Pre-breakfast blood Sugar of 126.875000\n",
      "patient Patient_17 had average Pre-breakfast blood Sugar of 144.041667\n",
      "patient Patient_16 had average Pre-breakfast blood Sugar of 179.471698\n",
      "patient Patient_15 had average Pre-breakfast blood Sugar of 168.075472\n",
      "patient Patient_14 had average Pre-breakfast blood Sugar of 181.176471\n",
      "patient Patient_13 had average Pre-breakfast blood Sugar of 200.343750\n",
      "patient Patient_12 had average Pre-breakfast blood Sugar of 193.375000\n",
      "patient Patient_11 had average Pre-breakfast blood Sugar of 161.714286\n",
      "patient Patient_10 had average Pre-breakfast blood Sugar of 202.705882\n",
      "patient Patient_1 had average Pre-breakfast blood Sugar of 169.718519\n"
     ]
    }
   ],
   "source": [
    "for pair in Record_GlucoseAverages.top(50):\n",
    "    print \"patient %s had average Pre-breakfast blood Sugar of %f\" % (pair[0],pair[1])"
   ]
  },
  {
   "cell_type": "markdown",
   "metadata": {},
   "source": [
    "\n",
    "\n",
    "## Results & Findings:\n",
    "\n",
    "## 4 : Average Pre-supper blood Sugar of 50 Patients (calculated based \n",
    "\n",
    "## on daily blood sugar level given for span of 2-3 years)\n",
    "\n"
   ]
  },
  {
   "cell_type": "code",
   "execution_count": 216,
   "metadata": {
    "collapsed": false
   },
   "outputs": [
    {
     "name": "stdout",
     "output_type": "stream",
     "text": [
      "patient Patient_9 had average Pre-supper blood Sugar of 160.052632\n",
      "patient Patient_8 had average Pre-supper blood Sugar of 176.031250\n",
      "patient Patient_7 had average Pre-supper blood Sugar of 182.655172\n",
      "patient Patient_6 had average Pre-supper blood Sugar of 199.235294\n",
      "patient Patient_50 had average Pre-supper blood Sugar of 89.607143\n",
      "patient Patient_5 had average Pre-supper blood Sugar of 226.878788\n",
      "patient Patient_49 had average Pre-supper blood Sugar of 90.875000\n",
      "patient Patient_48 had average Pre-supper blood Sugar of 148.370370\n",
      "patient Patient_47 had average Pre-supper blood Sugar of 102.791667\n",
      "patient Patient_46 had average Pre-supper blood Sugar of 185.689655\n",
      "patient Patient_45 had average Pre-supper blood Sugar of 167.625000\n",
      "patient Patient_44 had average Pre-supper blood Sugar of 166.115385\n",
      "patient Patient_43 had average Pre-supper blood Sugar of 176.040000\n",
      "patient Patient_42 had average Pre-supper blood Sugar of 152.015625\n",
      "patient Patient_41 had average Pre-supper blood Sugar of 189.100000\n",
      "patient Patient_4 had average Pre-supper blood Sugar of 217.843750\n",
      "patient Patient_39 had average Pre-supper blood Sugar of 145.333333\n",
      "patient Patient_38 had average Pre-supper blood Sugar of 134.379310\n",
      "patient Patient_37 had average Pre-supper blood Sugar of 150.939394\n",
      "patient Patient_36 had average Pre-supper blood Sugar of 135.250000\n",
      "patient Patient_35 had average Pre-supper blood Sugar of 125.366667\n",
      "patient Patient_34 had average Pre-supper blood Sugar of 121.387097\n",
      "patient Patient_33 had average Pre-supper blood Sugar of 169.607143\n",
      "patient Patient_32 had average Pre-supper blood Sugar of 188.000000\n",
      "patient Patient_31 had average Pre-supper blood Sugar of 139.987952\n",
      "patient Patient_30 had average Pre-supper blood Sugar of 141.087838\n",
      "patient Patient_3 had average Pre-supper blood Sugar of 165.066667\n",
      "patient Patient_29 had average Pre-supper blood Sugar of 150.880503\n",
      "patient Patient_28 had average Pre-supper blood Sugar of 127.358974\n",
      "patient Patient_27 had average Pre-supper blood Sugar of 126.132743\n",
      "patient Patient_26 had average Pre-supper blood Sugar of 149.500000\n",
      "patient Patient_24 had average Pre-supper blood Sugar of 147.880000\n",
      "patient Patient_23 had average Pre-supper blood Sugar of 89.000000\n",
      "patient Patient_21 had average Pre-supper blood Sugar of 133.900000\n",
      "patient Patient_20 had average Pre-supper blood Sugar of 184.659259\n",
      "patient Patient_2 had average Pre-supper blood Sugar of 190.784946\n",
      "patient Patient_19 had average Pre-supper blood Sugar of 163.814815\n",
      "patient Patient_18 had average Pre-supper blood Sugar of 176.321429\n",
      "patient Patient_17 had average Pre-supper blood Sugar of 177.400000\n",
      "patient Patient_16 had average Pre-supper blood Sugar of 203.083333\n",
      "patient Patient_15 had average Pre-supper blood Sugar of 151.000000\n",
      "patient Patient_14 had average Pre-supper blood Sugar of 110.363636\n",
      "patient Patient_13 had average Pre-supper blood Sugar of 110.791667\n",
      "patient Patient_12 had average Pre-supper blood Sugar of 116.166667\n",
      "patient Patient_11 had average Pre-supper blood Sugar of 92.769231\n",
      "patient Patient_10 had average Pre-supper blood Sugar of 214.058824\n",
      "patient Patient_1 had average Pre-supper blood Sugar of 161.235294\n"
     ]
    }
   ],
   "source": [
    "for pair in Record_1_GlucoseAverages.top(50):\n",
    "    print \"patient %s had average Pre-supper blood Sugar of %f\" % (pair[0],pair[1])"
   ]
  },
  {
   "cell_type": "markdown",
   "metadata": {},
   "source": [
    "\n",
    "\n",
    "## Results & Findings:\n",
    "\n",
    "## 5 : Average Pre-breakfast blood Sugar of 50 Patients sorted in \n",
    "\n",
    "## descending order (calculated based on daily blood sugar\n",
    "\n",
    "## level given for span of 2-3 years)\n",
    "\n",
    "\n"
   ]
  },
  {
   "cell_type": "code",
   "execution_count": 217,
   "metadata": {
    "collapsed": false,
    "scrolled": true
   },
   "outputs": [
    {
     "name": "stdout",
     "output_type": "stream",
     "text": [
      "Patient Patient_37 had average Pre-breakfast blood Sugar of 214.400000\n",
      "Patient Patient_6 had average Pre-breakfast blood Sugar of 213.523810\n",
      "Patient Patient_2 had average Pre-breakfast blood Sugar of 207.843750\n",
      "Patient Patient_36 had average Pre-breakfast blood Sugar of 206.966667\n",
      "Patient Patient_10 had average Pre-breakfast blood Sugar of 202.705882\n",
      "Patient Patient_13 had average Pre-breakfast blood Sugar of 200.343750\n",
      "Patient Patient_12 had average Pre-breakfast blood Sugar of 193.375000\n",
      "Patient Patient_46 had average Pre-breakfast blood Sugar of 192.718750\n",
      "Patient Patient_8 had average Pre-breakfast blood Sugar of 186.658537\n",
      "Patient Patient_20 had average Pre-breakfast blood Sugar of 184.296296\n",
      "Patient Patient_19 had average Pre-breakfast blood Sugar of 182.935484\n",
      "Patient Patient_7 had average Pre-breakfast blood Sugar of 182.529412\n",
      "Patient Patient_29 had average Pre-breakfast blood Sugar of 182.302013\n",
      "Patient Patient_14 had average Pre-breakfast blood Sugar of 181.176471\n",
      "Patient Patient_32 had average Pre-breakfast blood Sugar of 180.363636\n",
      "Patient Patient_44 had average Pre-breakfast blood Sugar of 180.142857\n",
      "Patient Patient_16 had average Pre-breakfast blood Sugar of 179.471698\n",
      "Patient Patient_24 had average Pre-breakfast blood Sugar of 179.045455\n",
      "Patient Patient_45 had average Pre-breakfast blood Sugar of 178.222222\n",
      "Patient Patient_30 had average Pre-breakfast blood Sugar of 173.432432\n",
      "Patient Patient_47 had average Pre-breakfast blood Sugar of 173.064516\n",
      "Patient Patient_28 had average Pre-breakfast blood Sugar of 173.024590\n",
      "Patient Patient_9 had average Pre-breakfast blood Sugar of 173.000000\n",
      "Patient Patient_48 had average Pre-breakfast blood Sugar of 172.483871\n",
      "Patient Patient_1 had average Pre-breakfast blood Sugar of 169.718519\n",
      "Patient Patient_38 had average Pre-breakfast blood Sugar of 169.321429\n",
      "Patient Patient_15 had average Pre-breakfast blood Sugar of 168.075472\n",
      "Patient Patient_11 had average Pre-breakfast blood Sugar of 161.714286\n",
      "Patient Patient_39 had average Pre-breakfast blood Sugar of 161.533333\n",
      "Patient Patient_35 had average Pre-breakfast blood Sugar of 159.517241\n",
      "Patient Patient_31 had average Pre-breakfast blood Sugar of 157.188235\n",
      "Patient Patient_33 had average Pre-breakfast blood Sugar of 153.357143\n",
      "Patient Patient_34 had average Pre-breakfast blood Sugar of 151.655172\n",
      "Patient Patient_5 had average Pre-breakfast blood Sugar of 147.432432\n",
      "Patient Patient_27 had average Pre-breakfast blood Sugar of 146.136752\n",
      "Patient Patient_21 had average Pre-breakfast blood Sugar of 145.396226\n",
      "Patient Patient_17 had average Pre-breakfast blood Sugar of 144.041667\n",
      "Patient Patient_4 had average Pre-breakfast blood Sugar of 141.571429\n",
      "Patient Patient_43 had average Pre-breakfast blood Sugar of 138.892857\n",
      "Patient Patient_41 had average Pre-breakfast blood Sugar of 137.015873\n",
      "Patient Patient_26 had average Pre-breakfast blood Sugar of 126.898734\n",
      "Patient Patient_18 had average Pre-breakfast blood Sugar of 126.875000\n",
      "Patient Patient_3 had average Pre-breakfast blood Sugar of 117.675000\n",
      "Patient Patient_42 had average Pre-breakfast blood Sugar of 104.353846\n",
      "Patient Patient_49 had average Pre-breakfast blood Sugar of 100.219512\n",
      "Patient Patient_50 had average Pre-breakfast blood Sugar of 94.266667\n",
      "Patient Patient_23 had average Pre-breakfast blood Sugar of 58.500000\n"
     ]
    }
   ],
   "source": [
    "sugarTop10=[]\n",
    "patientsTop10=[]\n",
    "for pair in Record_GlucoseAverages.map(lambda (x,y) : (y,x)).top(50):\n",
    "    sugarTop10.append(pair[0])\n",
    "    patientsTop10.append(pair[1])\n",
    "    print \"Patient %s had average Pre-breakfast blood Sugar of %f\" % (pair[1],pair[0])"
   ]
  },
  {
   "cell_type": "markdown",
   "metadata": {},
   "source": [
    "\n",
    "\n",
    "## Results & Findings:\n",
    "\n",
    "## 6 : Average Pre-supper blood Sugar of 50 Patients sorted in \n",
    "\n",
    "## descending order (calculated based on daily blood sugar\n",
    "\n",
    "## level given for span of 2-3 years)\n",
    "\n"
   ]
  },
  {
   "cell_type": "code",
   "execution_count": 218,
   "metadata": {
    "collapsed": false
   },
   "outputs": [
    {
     "name": "stdout",
     "output_type": "stream",
     "text": [
      "Patient Patient_5 had average Pre-supper blood Sugar of 226.878788\n",
      "Patient Patient_4 had average Pre-supper blood Sugar of 217.843750\n",
      "Patient Patient_10 had average Pre-supper blood Sugar of 214.058824\n",
      "Patient Patient_16 had average Pre-supper blood Sugar of 203.083333\n",
      "Patient Patient_6 had average Pre-supper blood Sugar of 199.235294\n",
      "Patient Patient_2 had average Pre-supper blood Sugar of 190.784946\n",
      "Patient Patient_41 had average Pre-supper blood Sugar of 189.100000\n",
      "Patient Patient_32 had average Pre-supper blood Sugar of 188.000000\n",
      "Patient Patient_46 had average Pre-supper blood Sugar of 185.689655\n",
      "Patient Patient_20 had average Pre-supper blood Sugar of 184.659259\n",
      "Patient Patient_7 had average Pre-supper blood Sugar of 182.655172\n",
      "Patient Patient_17 had average Pre-supper blood Sugar of 177.400000\n",
      "Patient Patient_18 had average Pre-supper blood Sugar of 176.321429\n",
      "Patient Patient_43 had average Pre-supper blood Sugar of 176.040000\n",
      "Patient Patient_8 had average Pre-supper blood Sugar of 176.031250\n",
      "Patient Patient_33 had average Pre-supper blood Sugar of 169.607143\n",
      "Patient Patient_45 had average Pre-supper blood Sugar of 167.625000\n",
      "Patient Patient_44 had average Pre-supper blood Sugar of 166.115385\n",
      "Patient Patient_3 had average Pre-supper blood Sugar of 165.066667\n",
      "Patient Patient_19 had average Pre-supper blood Sugar of 163.814815\n",
      "Patient Patient_1 had average Pre-supper blood Sugar of 161.235294\n",
      "Patient Patient_9 had average Pre-supper blood Sugar of 160.052632\n",
      "Patient Patient_42 had average Pre-supper blood Sugar of 152.015625\n",
      "Patient Patient_15 had average Pre-supper blood Sugar of 151.000000\n",
      "Patient Patient_37 had average Pre-supper blood Sugar of 150.939394\n",
      "Patient Patient_29 had average Pre-supper blood Sugar of 150.880503\n",
      "Patient Patient_26 had average Pre-supper blood Sugar of 149.500000\n",
      "Patient Patient_48 had average Pre-supper blood Sugar of 148.370370\n",
      "Patient Patient_24 had average Pre-supper blood Sugar of 147.880000\n",
      "Patient Patient_39 had average Pre-supper blood Sugar of 145.333333\n",
      "Patient Patient_30 had average Pre-supper blood Sugar of 141.087838\n",
      "Patient Patient_31 had average Pre-supper blood Sugar of 139.987952\n",
      "Patient Patient_36 had average Pre-supper blood Sugar of 135.250000\n",
      "Patient Patient_38 had average Pre-supper blood Sugar of 134.379310\n",
      "Patient Patient_21 had average Pre-supper blood Sugar of 133.900000\n",
      "Patient Patient_28 had average Pre-supper blood Sugar of 127.358974\n",
      "Patient Patient_27 had average Pre-supper blood Sugar of 126.132743\n",
      "Patient Patient_35 had average Pre-supper blood Sugar of 125.366667\n",
      "Patient Patient_34 had average Pre-supper blood Sugar of 121.387097\n",
      "Patient Patient_12 had average Pre-supper blood Sugar of 116.166667\n",
      "Patient Patient_13 had average Pre-supper blood Sugar of 110.791667\n",
      "Patient Patient_14 had average Pre-supper blood Sugar of 110.363636\n",
      "Patient Patient_47 had average Pre-supper blood Sugar of 102.791667\n",
      "Patient Patient_11 had average Pre-supper blood Sugar of 92.769231\n",
      "Patient Patient_49 had average Pre-supper blood Sugar of 90.875000\n",
      "Patient Patient_50 had average Pre-supper blood Sugar of 89.607143\n",
      "Patient Patient_23 had average Pre-supper blood Sugar of 89.000000\n"
     ]
    }
   ],
   "source": [
    "sugar_1_Top10=[]\n",
    "patients_1_Top10=[]\n",
    "for pair in Record_1_GlucoseAverages.map(lambda (x,y) : (y,x)).top(50):\n",
    "    sugar_1_Top10.append(pair[0])\n",
    "    patients_1_Top10.append(pair[1])\n",
    "    print \"Patient %s had average Pre-supper blood Sugar of %f\" % (pair[1],pair[0])"
   ]
  },
  {
   "cell_type": "markdown",
   "metadata": {},
   "source": [
    "##\n",
    "##\n",
    "## Creating Plots to show analysis results\n",
    "##\n",
    "##\n",
    "\n",
    "\n",
    "\n",
    "\n",
    "## Results & Findings:\n",
    "\n",
    "## 7 : Plot for Average Pre-breakfast blood Sugar of 50 Patients \n",
    "\n",
    "## sorted in descending order (calculated based on daily blood \n",
    "\n",
    "## sugar level given for span of 2-3 years)\n",
    "\n"
   ]
  },
  {
   "cell_type": "code",
   "execution_count": 219,
   "metadata": {
    "collapsed": false
   },
   "outputs": [
    {
     "name": "stdout",
     "output_type": "stream",
     "text": [
      "Current size: [6.0, 4.0]\n"
     ]
    },
    {
     "data": {
      "image/png": "[encoded data removed]",
      "text/plain": [
       "<matplotlib.figure.Figure at 0x7f97ea64ab90>"
      ]
     },
     "metadata": {},
     "output_type": "display_data"
    }
   ],
   "source": [
    "%matplotlib inline\n",
    "import numpy as np\n",
    "import matplotlib.pyplot as plt\n",
    "\n",
    "\n",
    "# Get current size\n",
    "fig_size = plt.rcParams[\"figure.figsize\"]\n",
    " \n",
    "# Prints: [8.0, 6.0]\n",
    "print \"Current size:\", fig_size\n",
    " \n",
    "# Set figure width to 12 and height to 9\n",
    "fig_size[0] = 18\n",
    "fig_size[1] = 12\n",
    "plt.rcParams[\"figure.figsize\"] = fig_size\n",
    "\n",
    "N = 47\n",
    "index = np.arange(N)  \n",
    "bar_width = 0.5\n",
    "\n",
    "plt.bar(index, sugarTop10, bar_width,\n",
    "                 color='b')\n",
    "plt.xlabel('Patients')\n",
    "plt.ylabel('Pre-breakfast blood Sugar')\n",
    "plt.title('Highest average pre-breakfast blood sugar in Patients')\n",
    "plt.xticks(index + bar_width, patientsTop10, rotation=90)\n",
    "plt.show()"
   ]
  },
  {
   "cell_type": "markdown",
   "metadata": {},
   "source": [
    "\n",
    "\n",
    "## Results & Findings:\n",
    "\n",
    "## 8 : Plot for Average Pre-supper blood Sugar of 50 Patients sorted \n",
    "\n",
    "## in descending order (calculated based on daily blood sugar \n",
    "\n",
    "## level given for span of 2-3 years)\n",
    "\n"
   ]
  },
  {
   "cell_type": "code",
   "execution_count": 220,
   "metadata": {
    "collapsed": false
   },
   "outputs": [
    {
     "name": "stdout",
     "output_type": "stream",
     "text": [
      "Current size: [6.0, 4.0]\n"
     ]
    },
    {
     "data": {
      "image/png": "[encoded data removed]",
      "text/plain": [
       "<matplotlib.figure.Figure at 0x7f97eaa94cd0>"
      ]
     },
     "metadata": {},
     "output_type": "display_data"
    }
   ],
   "source": [
    "%matplotlib inline\n",
    "import numpy as np\n",
    "import matplotlib.pyplot as plt\n",
    "\n",
    "\n",
    "# Get current size\n",
    "fig_size = plt.rcParams[\"figure.figsize\"]\n",
    " \n",
    "# Prints: [8.0, 6.0]\n",
    "print \"Current size:\", fig_size\n",
    " \n",
    "# Set figure width to 12 and height to 9\n",
    "fig_size[0] = 18\n",
    "fig_size[1] = 12\n",
    "plt.rcParams[\"figure.figsize\"] = fig_size\n",
    "\n",
    "N = 47\n",
    "index = np.arange(N)  \n",
    "bar_width = 0.5\n",
    "\n",
    "plt.bar(index, sugar_1_Top10, bar_width,\n",
    "                 color='b')\n",
    "plt.xlabel('Patients')\n",
    "plt.ylabel('Pre-supper blood Sugar')\n",
    "plt.title('Highest average pre-supper blood sugar in Patients')\n",
    "plt.xticks(index + bar_width, patients_1_Top10, rotation=90)\n",
    "plt.show()"
   ]
  },
  {
   "cell_type": "markdown",
   "metadata": {},
   "source": [
    "\n",
    "\n",
    "## Conclusion:\n",
    "\n",
    "## Patient 23 has the lowest average blood sugar level in both pre-breakfast and   \n",
    "\n",
    "## pre-supper durations. This indicates that proper quantity of insulin dose \n",
    "\n",
    "##  administration was carried out in this patient. Similar ratio of insulin dose \n",
    "\n",
    "##  if given to other patients should result in targeted limit on blood sugar level \n",
    "\n",
    "## in other patients.\n",
    "\n",
    "\n"
   ]
  }
 ],
 "metadata": {
  "kernelspec": {
   "display_name": "Python 2",
   "language": "python",
   "name": "python2"
  },
  "language_info": {
   "codemirror_mode": {
    "name": "ipython",
    "version": 2
   },
   "file_extension": ".py",
   "mimetype": "text/x-python",
   "name": "python",
   "nbconvert_exporter": "python",
   "pygments_lexer": "ipython2",
   "version": "2.7.11"
  },
  "name": "cds_ax_spark.ipynb"
 },
 "nbformat": 4,
 "nbformat_minor": 0
}